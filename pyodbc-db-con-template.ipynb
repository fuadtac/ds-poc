{
 "cells": [
  {
   "cell_type": "markdown",
   "metadata": {},
   "source": [
    "# MSSQL DB Connection Template  \n",
    "### using pyodbc library\n"
   ]
  },
  {
   "cell_type": "markdown",
   "metadata": {},
   "source": [
    "### Installing Libraries"
   ]
  },
  {
   "cell_type": "code",
   "execution_count": 4,
   "metadata": {},
   "outputs": [
    {
     "name": "stdout",
     "output_type": "stream",
     "text": [
      "Defaulting to user installation because normal site-packages is not writeable\n",
      "Requirement already satisfied: pyodbc in c:\\users\\fuad.jamali\\appdata\\roaming\\python\\python310\\site-packages (5.2.0)\n",
      "Requirement already satisfied: pandas in c:\\users\\fuad.jamali\\appdata\\roaming\\python\\python310\\site-packages (2.3.3)\n",
      "Requirement already satisfied: seaborn in c:\\users\\fuad.jamali\\appdata\\roaming\\python\\python310\\site-packages (0.13.2)\n",
      "Requirement already satisfied: matplotlib in c:\\users\\fuad.jamali\\appdata\\roaming\\python\\python310\\site-packages (3.10.6)\n",
      "Requirement already satisfied: numpy in c:\\users\\fuad.jamali\\appdata\\roaming\\python\\python310\\site-packages (2.2.6)\n",
      "Requirement already satisfied: xgboost in c:\\users\\fuad.jamali\\appdata\\roaming\\python\\python310\\site-packages (3.0.5)\n",
      "Requirement already satisfied: scikit-learn in c:\\users\\fuad.jamali\\appdata\\roaming\\python\\python310\\site-packages (1.7.2)\n",
      "Requirement already satisfied: tzdata>=2022.7 in c:\\users\\fuad.jamali\\appdata\\roaming\\python\\python310\\site-packages (from pandas) (2025.2)\n",
      "Requirement already satisfied: pytz>=2020.1 in c:\\users\\fuad.jamali\\appdata\\roaming\\python\\python310\\site-packages (from pandas) (2025.2)\n",
      "Requirement already satisfied: python-dateutil>=2.8.2 in c:\\users\\fuad.jamali\\appdata\\roaming\\python\\python310\\site-packages (from pandas) (2.9.0.post0)\n",
      "Requirement already satisfied: pyparsing>=2.3.1 in c:\\users\\fuad.jamali\\appdata\\roaming\\python\\python310\\site-packages (from matplotlib) (3.2.5)\n",
      "Requirement already satisfied: contourpy>=1.0.1 in c:\\users\\fuad.jamali\\appdata\\roaming\\python\\python310\\site-packages (from matplotlib) (1.3.2)\n",
      "Requirement already satisfied: kiwisolver>=1.3.1 in c:\\users\\fuad.jamali\\appdata\\roaming\\python\\python310\\site-packages (from matplotlib) (1.4.9)\n",
      "Requirement already satisfied: cycler>=0.10 in c:\\users\\fuad.jamali\\appdata\\roaming\\python\\python310\\site-packages (from matplotlib) (0.12.1)\n",
      "Requirement already satisfied: fonttools>=4.22.0 in c:\\users\\fuad.jamali\\appdata\\roaming\\python\\python310\\site-packages (from matplotlib) (4.60.1)\n",
      "Requirement already satisfied: pillow>=8 in c:\\users\\fuad.jamali\\appdata\\roaming\\python\\python310\\site-packages (from matplotlib) (11.3.0)\n",
      "Requirement already satisfied: packaging>=20.0 in c:\\users\\fuad.jamali\\appdata\\roaming\\python\\python310\\site-packages (from matplotlib) (25.0)\n",
      "Requirement already satisfied: scipy in c:\\users\\fuad.jamali\\appdata\\roaming\\python\\python310\\site-packages (from xgboost) (1.15.3)\n",
      "Requirement already satisfied: joblib>=1.2.0 in c:\\users\\fuad.jamali\\appdata\\roaming\\python\\python310\\site-packages (from scikit-learn) (1.5.2)\n",
      "Requirement already satisfied: threadpoolctl>=3.1.0 in c:\\users\\fuad.jamali\\appdata\\roaming\\python\\python310\\site-packages (from scikit-learn) (3.6.0)\n",
      "Requirement already satisfied: six>=1.5 in c:\\users\\fuad.jamali\\appdata\\roaming\\python\\python310\\site-packages (from python-dateutil>=2.8.2->pandas) (1.17.0)\n"
     ]
    },
    {
     "name": "stderr",
     "output_type": "stream",
     "text": [
      "\n",
      "[notice] A new release of pip is available: 23.0.1 -> 25.2\n",
      "[notice] To update, run: python.exe -m pip install --upgrade pip\n"
     ]
    }
   ],
   "source": [
    "#installing packages\n",
    "!pip install pyodbc pandas seaborn  matplotlib numpy xgboost scikit-learn"
   ]
  },
  {
   "cell_type": "markdown",
   "metadata": {},
   "source": [
    "### Importing Libraries"
   ]
  },
  {
   "cell_type": "code",
   "execution_count": 5,
   "metadata": {},
   "outputs": [],
   "source": [
    "#importing libraries\n",
    "import pyodbc\n",
    "import pandas as pd\n",
    "import os"
   ]
  },
  {
   "cell_type": "markdown",
   "metadata": {},
   "source": [
    "### Connecting to Database"
   ]
  },
  {
   "cell_type": "code",
   "execution_count": 6,
   "metadata": {},
   "outputs": [],
   "source": [
    "# Define connection parameters\n",
    "server = 'rebates-mssql-2019-2-dev.con8g81q8rff.us-east-1.rds.amazonaws.com'  # e.g., 'your-db-name.region.rds.amazonaws.com'\n",
    "database = 'dev-rebate-merit'\n",
    "\n",
    "# Get credentials from environment\n",
    "username = os.getenv(\"DB_USER_DEV\")\n",
    "password = os.getenv(\"DB_PASSWORD_DEV\")\n",
    "\n",
    "# override for local testing\n",
    "#username = '****'\n",
    "#password = '***'\n",
    "driver = '{ODBC Driver 17 for SQL Server}'  # Make sure this driver is installed"
   ]
  },
  {
   "cell_type": "code",
   "execution_count": 7,
   "metadata": {},
   "outputs": [
    {
     "name": "stdout",
     "output_type": "stream",
     "text": [
      "✅ Connection successful!\n"
     ]
    }
   ],
   "source": [
    "# Create connection string\n",
    "connection_string = f'''\n",
    "    DRIVER={driver};\n",
    "    SERVER={server};\n",
    "    DATABASE={database};\n",
    "    UID={username};\n",
    "    PWD={password};\n",
    "    Encrypt=no;\n",
    "    TrustServerCertificate=yes;\n",
    "    Connection Timeout=30;\n",
    "'''\n",
    "\n",
    "try:\n",
    "    conn = pyodbc.connect(connection_string)\n",
    "    print(\"✅ Connection successful!\")\n",
    "except Exception as e:\n",
    "    print(\"❌ Connection failed:\", e)"
   ]
  },
  {
   "cell_type": "markdown",
   "metadata": {},
   "source": [
    "### Retrieving Data form Database"
   ]
  },
  {
   "cell_type": "code",
   "execution_count": 8,
   "metadata": {},
   "outputs": [
    {
     "name": "stderr",
     "output_type": "stream",
     "text": [
      "C:\\Users\\Fuad.Jamali\\AppData\\Local\\Temp\\ipykernel_20744\\1241077748.py:28: UserWarning: pandas only supports SQLAlchemy connectable (engine/connection) or database string URI or sqlite3 DBAPI2 connection. Other DBAPI2 objects are not tested. Please consider using SQLAlchemy.\n",
      "  df = pd.read_sql(query, conn)\n"
     ]
    },
    {
     "name": "stdout",
     "output_type": "stream",
     "text": [
      "✅ Query executed and data loaded into DataFrame.\n"
     ]
    },
    {
     "data": {
      "text/html": [
       "<div>\n",
       "<style scoped>\n",
       "    .dataframe tbody tr th:only-of-type {\n",
       "        vertical-align: middle;\n",
       "    }\n",
       "\n",
       "    .dataframe tbody tr th {\n",
       "        vertical-align: top;\n",
       "    }\n",
       "\n",
       "    .dataframe thead th {\n",
       "        text-align: right;\n",
       "    }\n",
       "</style>\n",
       "<table border=\"1\" class=\"dataframe\">\n",
       "  <thead>\n",
       "    <tr style=\"text-align: right;\">\n",
       "      <th></th>\n",
       "      <th>Date</th>\n",
       "      <th>Customer</th>\n",
       "      <th>Sales</th>\n",
       "    </tr>\n",
       "  </thead>\n",
       "  <tbody>\n",
       "    <tr>\n",
       "      <th>0</th>\n",
       "      <td>2023-01-01</td>\n",
       "      <td>0010077313</td>\n",
       "      <td>936.00</td>\n",
       "    </tr>\n",
       "    <tr>\n",
       "      <th>1</th>\n",
       "      <td>2023-01-01</td>\n",
       "      <td>0010279505</td>\n",
       "      <td>5796.25</td>\n",
       "    </tr>\n",
       "    <tr>\n",
       "      <th>2</th>\n",
       "      <td>2023-01-02</td>\n",
       "      <td>0010013607</td>\n",
       "      <td>464.75</td>\n",
       "    </tr>\n",
       "    <tr>\n",
       "      <th>3</th>\n",
       "      <td>2023-01-02</td>\n",
       "      <td>0010021818</td>\n",
       "      <td>4207.50</td>\n",
       "    </tr>\n",
       "    <tr>\n",
       "      <th>4</th>\n",
       "      <td>2023-01-02</td>\n",
       "      <td>0000008687</td>\n",
       "      <td>982.75</td>\n",
       "    </tr>\n",
       "  </tbody>\n",
       "</table>\n",
       "</div>"
      ],
      "text/plain": [
       "        Date    Customer    Sales\n",
       "0 2023-01-01  0010077313   936.00\n",
       "1 2023-01-01  0010279505  5796.25\n",
       "2 2023-01-02  0010013607   464.75\n",
       "3 2023-01-02  0010021818  4207.50\n",
       "4 2023-01-02  0000008687   982.75"
      ]
     },
     "metadata": {},
     "output_type": "display_data"
    }
   ],
   "source": [
    "# Define your SQL query\n",
    "query = '''\n",
    "\n",
    "        WITH NLP_Sales AS \n",
    "            (\n",
    "                SELECT sid.[orderdate] as [Date], SID.PayeeCustomerAccount As [Customer], SUM(SID.InvAmt) as [Sales]\n",
    "                FROM SalesInvoiceDetail SID\n",
    "                JOIN batch B ON SID.batchid = B.id \n",
    "                    AND B.schemeid IN (6918,6401)\n",
    "                JOIN CustomerMaster CM on SID.PayeeCustomerAccount = CM.CustomerAccount\n",
    "                    AND BatchNo IN (15)\n",
    "                    AND ((b.BatchTypeId = 1 AND MonthlyPaymentApplicable = 1))\n",
    "                --OR (b.BatchTypeId = 2 and MonthlyPaymentApplicable = 0))\n",
    "                    AND SID.salesinvoicetypeid IN (1, 12)\n",
    "                    AND excluded = 0 AND  category = 'Nobivac Vaccines'\n",
    "                --WHERE SID.CustomerAccount = '0000008687'\n",
    "                GROUP BY sid.[orderdate], SID.PayeeCustomerAccount \n",
    "                \n",
    "            )\n",
    "\n",
    "            SELECT * FROM NLP_Sales\n",
    "            Order By [Date]\n",
    "\n",
    "        '''\n",
    "\n",
    "# Execute and store results in a pandas DataFrame\n",
    "try:\n",
    "    df = pd.read_sql(query, conn)\n",
    "    print(\"✅ Query executed and data loaded into DataFrame.\")\n",
    "    display(df.head())  # Show first few rows\n",
    "except Exception as e:\n",
    "    print(\"❌ Failed to execute query:\", e)\n"
   ]
  },
  {
   "cell_type": "code",
   "execution_count": 9,
   "metadata": {},
   "outputs": [
    {
     "data": {
      "text/plain": [
       "(6586, 3)"
      ]
     },
     "execution_count": 9,
     "metadata": {},
     "output_type": "execute_result"
    }
   ],
   "source": [
    "df.shape"
   ]
  },
  {
   "cell_type": "code",
   "execution_count": null,
   "metadata": {},
   "outputs": [],
   "source": []
  }
 ],
 "metadata": {
  "kernelspec": {
   "display_name": "Python 3",
   "language": "python",
   "name": "python3"
  },
  "language_info": {
   "codemirror_mode": {
    "name": "ipython",
    "version": 3
   },
   "file_extension": ".py",
   "mimetype": "text/x-python",
   "name": "python",
   "nbconvert_exporter": "python",
   "pygments_lexer": "ipython3",
   "version": "3.10.11"
  }
 },
 "nbformat": 4,
 "nbformat_minor": 2
}
